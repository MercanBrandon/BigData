{
 "cells": [
  {
   "cell_type": "code",
   "execution_count": 3,
   "metadata": {},
   "outputs": [
    {
     "name": "stdout",
     "output_type": "stream",
     "text": [
      "ceci est une méthode sur un objet\n"
     ]
    }
   ],
   "source": [
    "class DescriptionDeLObjet : \n",
    "    def la_methode(objet_en_cours):\n",
    "        print(\"ceci est une méthode sur un objet\")\n",
    "        \n",
    "MonObjet = DescriptionDeLObjet()\n",
    "MonObjet.la_methode()"
   ]
  },
  {
   "cell_type": "code",
   "execution_count": 6,
   "metadata": {},
   "outputs": [
    {
     "name": "stdout",
     "output_type": "stream",
     "text": [
      "un truc\n"
     ]
    }
   ],
   "source": [
    "class UneClasse : \n",
    "    def methode(self):\n",
    "        print('un truc')\n",
    "        \n",
    "ex = UneClasse()\n",
    "ex.methode()"
   ]
  },
  {
   "cell_type": "markdown",
   "metadata": {},
   "source": [
    "## Le compte bancaire"
   ]
  },
  {
   "cell_type": "code",
   "execution_count": 18,
   "metadata": {},
   "outputs": [
    {
     "name": "stdout",
     "output_type": "stream",
     "text": [
      "Le solde du compte de Dupont est de 1000€\n",
      "Le solde du compte de Dupont est de 1020€\n",
      "Le solde du compte de Dupont est de 970€\n",
      "Le solde du compte de Brandon est de 1300€\n"
     ]
    }
   ],
   "source": [
    "class CompteBancaire : \n",
    "    def __init__(self, nom = 'Dupont', depot_initial = 1000):\n",
    "        self.nom = nom\n",
    "        self.solde = depot_initial\n",
    "    \n",
    "    def depot(self, montant):\n",
    "        self.solde += montant\n",
    "        self.affiche()\n",
    "    \n",
    "    def retrait(self, montant):\n",
    "        self.solde -= montant\n",
    "        self.affiche()\n",
    "    \n",
    "    def affiche(self):\n",
    "        print(\"Le solde du compte de \"+self.nom+\" est de \"+ str(self.solde)+ \"€\")\n",
    "        \n",
    "compte1 = CompteBancaire()\n",
    "compte1.affiche()\n",
    "compte1.depot(20)\n",
    "compte1.retrait(50)\n",
    "\n",
    "compte2 = CompteBancaire(\"Brandon\", 1300)\n",
    "compte2.affiche()"
   ]
  },
  {
   "cell_type": "markdown",
   "metadata": {},
   "source": [
    "## La surcharge d'opérateur"
   ]
  },
  {
   "cell_type": "code",
   "execution_count": 20,
   "metadata": {},
   "outputs": [
    {
     "name": "stdout",
     "output_type": "stream",
     "text": [
      "[1, 2]\n"
     ]
    }
   ],
   "source": [
    "class Point:\n",
    "    dot = []\n",
    "    def __init__(self,x,y):\n",
    "        self.dot.append(x)\n",
    "        self.dot.append(y)\n",
    "    def __add__(self, z):\n",
    "        self.z = z\n",
    "p1 = Point(1,2)\n",
    "print(p1.dot)"
   ]
  }
 ],
 "metadata": {
  "kernelspec": {
   "display_name": "Python 3",
   "language": "python",
   "name": "python3"
  },
  "language_info": {
   "codemirror_mode": {
    "name": "ipython",
    "version": 3
   },
   "file_extension": ".py",
   "mimetype": "text/x-python",
   "name": "python",
   "nbconvert_exporter": "python",
   "pygments_lexer": "ipython3",
   "version": "3.7.6"
  }
 },
 "nbformat": 4,
 "nbformat_minor": 4
}
