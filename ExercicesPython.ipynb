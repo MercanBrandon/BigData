{
 "cells": [
  {
   "cell_type": "code",
   "execution_count": 3,
   "metadata": {},
   "outputs": [
    {
     "name": "stdout",
     "output_type": "stream",
     "text": [
      "ceci est une méthode sur un objet\n"
     ]
    }
   ],
   "source": [
    "class DescriptionDeLObjet : \n",
    "    def la_methode(objet_en_cours):\n",
    "        print(\"ceci est une méthode sur un objet\")\n",
    "        \n",
    "MonObjet = DescriptionDeLObjet()\n",
    "MonObjet.la_methode()"
   ]
  },
  {
   "cell_type": "code",
   "execution_count": 6,
   "metadata": {},
   "outputs": [
    {
     "name": "stdout",
     "output_type": "stream",
     "text": [
      "un truc\n"
     ]
    }
   ],
   "source": [
    "class UneClasse : \n",
    "    def methode(self):\n",
    "        print('un truc')\n",
    "        \n",
    "ex = UneClasse()\n",
    "ex.methode()"
   ]
  },
  {
   "cell_type": "markdown",
   "metadata": {},
   "source": [
    "## Le compte bancaire"
   ]
  },
  {
   "cell_type": "code",
   "execution_count": 18,
   "metadata": {},
   "outputs": [
    {
     "name": "stdout",
     "output_type": "stream",
     "text": [
      "Le solde du compte de Dupont est de 1000€\n",
      "Le solde du compte de Dupont est de 1020€\n",
      "Le solde du compte de Dupont est de 970€\n",
      "Le solde du compte de Brandon est de 1300€\n"
     ]
    }
   ],
   "source": [
    "class CompteBancaire : \n",
    "    def __init__(self, nom = 'Dupont', depot_initial = 1000):\n",
    "        self.nom = nom\n",
    "        self.solde = depot_initial\n",
    "    \n",
    "    def depot(self, montant):\n",
    "        self.solde += montant\n",
    "        self.affiche()\n",
    "    \n",
    "    def retrait(self, montant):\n",
    "        self.solde -= montant\n",
    "        self.affiche()\n",
    "    \n",
    "    def affiche(self):\n",
    "        print(\"Le solde du compte de \"+self.nom+\" est de \"+ str(self.solde)+ \"€\")\n",
    "        \n",
    "compte1 = CompteBancaire()\n",
    "compte1.affiche()\n",
    "compte1.depot(20)\n",
    "compte1.retrait(50)\n",
    "\n",
    "compte2 = CompteBancaire(\"Brandon\", 1300)\n",
    "compte2.affiche()"
   ]
  },
  {
   "cell_type": "markdown",
   "metadata": {},
   "source": [
    "## La surcharge d'opérateur"
   ]
  },
  {
   "cell_type": "code",
   "execution_count": 3,
   "metadata": {},
   "outputs": [
    {
     "name": "stdout",
     "output_type": "stream",
     "text": [
      "[1, 2]\n",
      "[1, 2, 1, 2]\n"
     ]
    }
   ],
   "source": [
    "class Point:\n",
    "    dot = []\n",
    "    def __init__(self,x,y):\n",
    "        self.dot.append(x)\n",
    "        self.dot.append(y)\n",
    "    def __add__(self, z):\n",
    "        self.dot.append(z)\n",
    "p1 = Point(1,2)\n",
    "print(p1.dot)\n",
    "\n",
    "p2 = Point(1,2)\n",
    "print(p2.dot)"
   ]
  },
  {
   "cell_type": "markdown",
   "metadata": {},
   "source": [
    "## L'héritage simple"
   ]
  },
  {
   "cell_type": "code",
   "execution_count": 35,
   "metadata": {},
   "outputs": [
    {
     "name": "stdout",
     "output_type": "stream",
     "text": [
      "Nom: MERCAN\n",
      "Prenom: Brandon\n",
      "Date de naissance: 22/2/1997\n",
      "Nom: BLONDO\n",
      "Prenom: Jaïna\n",
      "Date de naissance: 10/3/2011\n",
      "Salaire: 1600\n",
      "Nom: MERCAN\n",
      "Prenom: Mayrhon\n",
      "Date de naissance: 7/3/2019\n",
      "Salaire: 115\n",
      "Service: Petite Enfance\n"
     ]
    }
   ],
   "source": [
    "class DateNaissance:\n",
    "    def __init__(self,jour,mois,annee):\n",
    "        self.jour = jour\n",
    "        self.mois = mois\n",
    "        self.annee= annee\n",
    "    def __str__(self):\n",
    "        return str(self.jour)+\"/\"+str(self.mois)+\"/\"+str(self.annee)\n",
    "    def toString(self):\n",
    "        return str(self.jour)+\"/\"+str(self.mois)+\"/\"+str(self.annee)\n",
    "        \n",
    "class Personne(DateNaissance):\n",
    "    def __init__(self,nom,prenom,date_de_naissance):\n",
    "        self.nom = nom\n",
    "        self.prenom = prenom\n",
    "        self.date_naissance = date_de_naissance\n",
    "    def affiche(self):\n",
    "        print('Nom: '+self.nom)\n",
    "        print('Prenom: '+self.prenom)\n",
    "        print('Date de naissance: '+self.date_naissance.toString())\n",
    "        \n",
    "class Employe(Personne):\n",
    "    def __init__(self, nom, prenom, date_naissance, salaire):\n",
    "        Personne.__init__(self, nom, prenom, date_naissance)\n",
    "        self.salaire = salaire\n",
    "    def affiche(self):\n",
    "        Personne.affiche(self)\n",
    "        print('Salaire: '+str(self.salaire))\n",
    "        \n",
    "class Chef(Employe):\n",
    "    def __init__(self, nom, prenom, date_naissance, salaire, service):\n",
    "        Employe.__init__(self, nom, prenom, date_naissance,salaire)\n",
    "        self.service = service\n",
    "    def affiche(self):\n",
    "        Employe.affiche(self)\n",
    "        print('Service: '+self.service)\n",
    "\n",
    "p1 = Personne('MERCAN','Brandon', DateNaissance(22,2,1997))\n",
    "p1.affiche()\n",
    "E = Employe('BLONDO','Jaïna', DateNaissance(10,3,2011), 1600)\n",
    "E.affiche()\n",
    "C = Chef('MERCAN', 'Mayrhon', DateNaissance(7,3,2019), 115, 'Petite Enfance')\n",
    "C.affiche()"
   ]
  },
  {
   "cell_type": "markdown",
   "metadata": {},
   "source": [
    "## Le polymorphisme"
   ]
  }
 ],
 "metadata": {
  "kernelspec": {
   "display_name": "Python 3",
   "language": "python",
   "name": "python3"
  },
  "language_info": {
   "codemirror_mode": {
    "name": "ipython",
    "version": 3
   },
   "file_extension": ".py",
   "mimetype": "text/x-python",
   "name": "python",
   "nbconvert_exporter": "python",
   "pygments_lexer": "ipython3",
   "version": "3.7.6"
  }
 },
 "nbformat": 4,
 "nbformat_minor": 4
}
